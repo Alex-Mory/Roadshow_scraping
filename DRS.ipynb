{
 "cells": [
  {
   "cell_type": "code",
   "execution_count": null,
   "id": "b1004129-e7a1-463b-a8f8-056313c23c62",
   "metadata": {},
   "outputs": [],
   "source": [
    "from selenium import webdriver\n",
    "from dealroadshow_scraper import (\n",
    "    get_user_input,\n",
    "    initialize_driver,\n",
    "    login_to_dealroadshow,\n",
    "    wait_for_interaction,\n",
    "    pause_video,\n",
    "    navigate_to_first_slide,\n",
    "    get_nb_slides,\n",
    "    create_output_folders,\n",
    "    take_screenshots,\n",
    "    save_screenshots_to_word,\n",
    "    save_screenshots_to_pdf,\n",
    "    cleanup_files\n",
    ")\n",
    "\n",
    "def main():\n",
    "    company_name, deal_entry_code, email, mode = get_user_input()\n",
    "    driver = initialize_driver()\n",
    "    login_to_dealroadshow(driver, email, deal_entry_code)\n",
    "    if wait_for_interaction(driver):\n",
    "        pause_video(driver)\n",
    "        navigate_to_first_slide(driver)\n",
    "        nb_slide = get_nb_slides(driver)\n",
    "        screenshots_folder, output_folder = create_output_folders(company_name)\n",
    "        screenshot_paths = take_screenshots(driver, screenshots_folder, nb_slide)\n",
    "    \n",
    "        print(\"Closing the WebDriver...\")\n",
    "        driver.quit()\n",
    "        \n",
    "        doc_path = save_screenshots_to_word(screenshot_paths, output_folder, company_name)\n",
    "        pdf_path = save_screenshots_to_pdf(doc_path)\n",
    "        cleanup_files(output_folder, pdf_path, mode)\n",
    "        print(\"The work is saved, you can close this window.\")\n",
    "        \n",
    "    driver.quit()\n",
    "\n",
    "if __name__ == \"__main__\":\n",
    "    main()"
   ]
  }
 ],
 "metadata": {
  "kernelspec": {
   "display_name": "Python 3 (ipykernel)",
   "language": "python",
   "name": "python3"
  },
  "language_info": {
   "codemirror_mode": {
    "name": "ipython",
    "version": 3
   },
   "file_extension": ".py",
   "mimetype": "text/x-python",
   "name": "python",
   "nbconvert_exporter": "python",
   "pygments_lexer": "ipython3",
   "version": "3.11.7"
  }
 },
 "nbformat": 4,
 "nbformat_minor": 5
}
