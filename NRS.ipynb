{
 "cells": [
  {
   "cell_type": "code",
   "execution_count": 3,
   "id": "1f4566ff-44e7-4830-96ff-2e1a8b63d9dd",
   "metadata": {},
   "outputs": [
    {
     "name": "stdin",
     "output_type": "stream",
     "text": [
      "Enter the company name as saved in the SSC folder:  test\n",
      "Enter the NetRoadshow Deal Entry Code:  https://www.netroadshow.com/events/login?confId=67355&show=0366a8bb\n"
     ]
    },
    {
     "name": "stdout",
     "output_type": "stream",
     "text": [
      "Email options:\n",
      "Enter 'e' for e.desinety@sycomore-am.com\n",
      "Enter 't' for tony.lebon@sycomore-am.com\n",
      "Enter 'a' for alex.mory@sycomore-am.com\n"
     ]
    },
    {
     "name": "stdin",
     "output_type": "stream",
     "text": [
      "NetRoadshow email address:  a\n",
      "Enter 1 for 'debug mode' (keep Word doc and screenshots) or 2 for 'user mode' (only pdf file):  2\n"
     ]
    },
    {
     "name": "stdout",
     "output_type": "stream",
     "text": [
      "Initializing the WebDriver...\n",
      "Opening the Net Roadshow login page...\n",
      "Video is not paused.\n",
      "Zooming on the slide\n",
      "Navigating to the first slide...\n",
      "Creating output folders for saving screenshots...\n",
      "Starting roadshow scraping...\n"
     ]
    },
    {
     "data": {
      "application/vnd.jupyter.widget-view+json": {
       "model_id": "2c3c8d2236d14f609669d4afcb8470cd",
       "version_major": 2,
       "version_minor": 0
      },
      "text/plain": [
       "Taking screenshots:   0%|          | 0/54 [00:00<?, ?slide/s]"
      ]
     },
     "metadata": {},
     "output_type": "display_data"
    },
    {
     "name": "stdout",
     "output_type": "stream",
     "text": [
      "Scraping completed. 54 screenshots saved in F:\\GESTION\\SSC\\test\\2024-07-03 NRS test\\screenshots_test\n",
      "Closing the WebDriver...\n",
      "Starting screenshot compilation in a Word Docx...\n",
      "Word document saved as F:\\GESTION\\SSC\\test\\2024-07-03 NRS test\\2024-07-03 NRS test.docx\n",
      "Saving docx as pdf...\n",
      "PDF document saved as F:\\GESTION\\SSC\\test\\2024-07-03 NRS test\\2024-07-03 NRS test.pdf\n",
      "Cleaning NRS folder...\n",
      "Moved PDF to F:\\GESTION\\SSC\\test\\2024-07-03 NRS test.pdf\n",
      "Deleted F:\\GESTION\\SSC\\test\\2024-07-03 NRS test\n",
      "The work is saved, you can close this window.\n"
     ]
    }
   ],
   "source": [
    "from netroadshow_scraper import (\n",
    "    get_user_input,\n",
    "    initialize_driver,\n",
    "    login_to_netroadshow,\n",
    "    login_with_url,\n",
    "    handle_welcome_back_modal,\n",
    "    verify_video_status,\n",
    "    get_nb_slides,\n",
    "    expand_slide_view,\n",
    "    navigate_to_first_slide,\n",
    "    create_output_folders,\n",
    "    take_screenshots,\n",
    "    save_screenshots_to_word,\n",
    "    save_screenshots_to_pdf,\n",
    "    cleanup_files\n",
    ")\n",
    "\n",
    "def main():\n",
    "    company_name, deal_entry_code, email, mode = get_user_input()\n",
    "    driver = initialize_driver()\n",
    "    if not deal_entry_code[:4] == \"http\":\n",
    "        success = login_to_netroadshow(driver, deal_entry_code, email)\n",
    "    else:\n",
    "        success = login_with_url(driver, deal_entry_code, email)\n",
    "\n",
    "    if success:\n",
    "        handle_welcome_back_modal(driver)\n",
    "        verify_video_status(driver)\n",
    "        nb_slides = get_nb_slides(driver)\n",
    "        expand_slide_view(driver)\n",
    "        navigate_to_first_slide(driver)\n",
    "        screenshots_folder, output_folder = create_output_folders(company_name)\n",
    "        screenshot_paths = take_screenshots(driver, screenshots_folder, nb_slides)\n",
    "    \n",
    "        print(\"Closing the WebDriver...\")\n",
    "        driver.quit()\n",
    "\n",
    "        doc_path = save_screenshots_to_word(screenshot_paths, output_folder, company_name)\n",
    "        pdf_path = save_screenshots_to_pdf(doc_path)\n",
    "        cleanup_files(output_folder, pdf_path, mode)\n",
    "        print(\"The work is saved, you can close this window.\")\n",
    "\n",
    "    driver.quit()\n",
    "\n",
    "if __name__ == \"__main__\":\n",
    "    main()"
   ]
  },
  {
   "cell_type": "code",
   "execution_count": null,
   "id": "bd604607-72d5-4afd-9953-1a3a38a8a3a1",
   "metadata": {},
   "outputs": [],
   "source": []
  }
 ],
 "metadata": {
  "kernelspec": {
   "display_name": "Python 3 (ipykernel)",
   "language": "python",
   "name": "python3"
  },
  "language_info": {
   "codemirror_mode": {
    "name": "ipython",
    "version": 3
   },
   "file_extension": ".py",
   "mimetype": "text/x-python",
   "name": "python",
   "nbconvert_exporter": "python",
   "pygments_lexer": "ipython3",
   "version": "3.11.7"
  }
 },
 "nbformat": 4,
 "nbformat_minor": 5
}
